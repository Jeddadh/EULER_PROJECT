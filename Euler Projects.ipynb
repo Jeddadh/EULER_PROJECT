{
 "cells": [
  {
   "cell_type": "markdown",
   "metadata": {},
   "source": [
    "_________________\n",
    "### Probelm 9 : Special Pythagorean triplet\n",
    "<p>A Pythagorean triplet is a set of three natural numbers, <var>a</var> &lt; <var>b</var> &lt; <var>c</var>, for which,</p>\n",
    "<div style=\"text-align:center;\"> <var>a</var><sup>2</sup> + <var>b</var><sup>2</sup> = <var>c</var><sup>2</sup></div>\n",
    "<p>For example, 3<sup>2</sup> + 4<sup>2</sup> = 9 + 16 = 25 = 5<sup>2</sup>.</p>\n",
    "<p>There exists exactly one Pythagorean triplet for which <var>a</var> + <var>b</var> + <var>c</var> = 1000.<br />Find the product <var>abc</var>.</p>\n",
    "\n",
    "#### solution\n",
    "\n",
    "* c = 1000 - (a+b)\n",
    "* we have a<b<c means a<333 \n",
    "* 1000-(a+b)>b means b<500-a/2 "
   ]
  },
  {
   "cell_type": "code",
   "execution_count": 7,
   "metadata": {},
   "outputs": [
    {
     "name": "stdout",
     "output_type": "stream",
     "text": [
      "abc = 31875000\n"
     ]
    }
   ],
   "source": [
    "for a in range(1,333):\n",
    "    for b in range(a+1,499-a//2):\n",
    "        c = 1000 - (a+b)\n",
    "        if (a**2+b**2)==c**2 :\n",
    "            print(f\"abc = {a*c*b}\")\n",
    "            break\n",
    "    else :\n",
    "        continue\n",
    "    break"
   ]
  },
  {
   "cell_type": "markdown",
   "metadata": {},
   "source": [
    "_________________"
   ]
  },
  {
   "cell_type": "markdown",
   "metadata": {},
   "source": [
    "### Probelm 31 : Coin sums\n",
    "\n",
    "<p>In the United Kingdom the currency is made up of pound (£) and pence (p). There are eight coins in general circulation:</p>\n",
    "<blockquote>1p, 2p, 5p, 10p, 20p, 50p, £1 (100p), and £2 (200p).</blockquote>\n",
    "<p>It is possible to make £2 in the following way:</p>\n",
    "<blockquote>1×£1 + 1×50p + 2×20p + 1×5p + 1×2p + 3×1p</blockquote>\n",
    "<p>How many different ways can £2 be made using any number of coins?</p>"
   ]
  },
  {
   "cell_type": "code",
   "execution_count": 4,
   "metadata": {},
   "outputs": [],
   "source": [
    "## DYNAMIC PROGRAMMING AND RECURSIVITY\n",
    "import numpy as np \n",
    "import itertools \n",
    "coins_values = np.array([2,5,10,20,50,100,200])\n",
    "max_number_of_used_coins = 200//coins_values\n",
    "dict_nb_of_possibilities = {}\n",
    "dict_of_possibilities = {}\n",
    "used = {}\n",
    "# util function \n",
    "def unpack(x):\n",
    "    a = []\n",
    "    for el in x :\n",
    "        for i in el :\n",
    "            a.append(i)\n",
    "    return tuple(sorted(a))\n",
    "\n",
    "def get_nb_of_possibilities(n):\n",
    "    if n in dict_of_possibilities :\n",
    "        return dict_of_possibilities[n]\n",
    "    if n in coins_values:\n",
    "#         nb_poss = set([(n,)])\n",
    "        nb_poss = [(n,)]\n",
    "    else :\n",
    "        nb_poss = []\n",
    "#         nb_poss = set()\n",
    "    n_poss.extend()\n",
    "    for x in coins_values:\n",
    "        if n-x not in coins_values :\n",
    "            continue\n",
    "        if x <= n//2:\n",
    "            if False :\n",
    "#                 nb_poss +#                 nb_poss += get_nb_of_possibilities(x)\n",
    "                nb_poss.extend(get_nb_of_possibilities(x))\n",
    "            if True :\n",
    "#                 nb_poss += get_nb_of_possibilities(x)*get_nb_of_possibilities(n-x)\n",
    "#             nb_poss = nb_poss.union(set([unpack(x) for x in itertools.product(get_nb_of_possibilities(x),get_nb_of_possibilities(n-x))]))\n",
    "                nb_poss.extend([unpack(x) for x in itertools.product(get_nb_of_possibilities(x),get_nb_of_possibilities(n-x))])\n",
    "        \n",
    "    return nb_poss"
   ]
  },
  {
   "cell_type": "code",
   "execution_count": 1,
   "metadata": {},
   "outputs": [],
   "source": [
    "## DYNAMIC PROGRAMMING AND RECURSIVITY\n",
    "import numpy as np \n",
    "import itertools \n",
    "coins_values = np.array([2,5,10,20,50,100,200])\n",
    "max_number_of_used_coins = 200//coins_values\n",
    "dict_nb_of_possibilities = {}\n",
    "dict_of_possibilities = {}\n",
    "used = {}\n",
    "\n",
    "def get_nb_of_possibilities(n):\n",
    "    if n in dict_of_possibilities :\n",
    "        return dict_of_possibilities[n]\n",
    "    if n in coins_values:\n",
    "        nb_poss = [(n,)]\n",
    "    else :\n",
    "        nb_poss = []\n",
    "    n_poss.extend()\n",
    "    for x in coins_values:\n",
    "        if n-x not in coins_values :\n",
    "            continue\n",
    "        if x <= n//2:\n",
    "            if False :\n",
    "                nb_poss.extend(get_nb_of_possibilities(x))\n",
    "            if True :\n",
    "                nb_poss.extend([unpack(x) for x in itertools.product(get_nb_of_possibilities(x),get_nb_of_possibilities(n-x))])        \n",
    "    return nb_poss"
   ]
  },
  {
   "cell_type": "code",
   "execution_count": 7,
   "metadata": {},
   "outputs": [],
   "source": [
    "## DYNAMIC PROGRAMMING AND RECURSIVITY\n",
    "import itertools \n",
    "import numpy as np \n",
    "coins_values = np.array([1,2,5,10,20,50,100,200])\n",
    "dict_of_possibilities = {1:1}\n",
    "\n",
    "def get_nb_of_possibilities(n):\n",
    "    if n in dict_of_possibilities:\n",
    "        return dict_of_possibilities[n]\n",
    "    if n in coins_values:\n",
    "        nb_poss = 1\n",
    "    else:\n",
    "        nb_poss = 0\n",
    "    nb_poss += get_nb_of_possibilities(n-1)\n",
    "    dict_of_possibilities[n] = nb_poss\n",
    "    return nb_poss"
   ]
  },
  {
   "cell_type": "code",
   "execution_count": 8,
   "metadata": {},
   "outputs": [
    {
     "data": {
      "text/plain": [
       "8"
      ]
     },
     "execution_count": 8,
     "metadata": {},
     "output_type": "execute_result"
    }
   ],
   "source": [
    "get_nb_of_possibilities(200)"
   ]
  },
  {
   "cell_type": "markdown",
   "metadata": {},
   "source": [
    "## PROBLEM 514\n",
    "<p>A <b>geoboard</b> (of order <var>N</var>) is a square board with equally-spaced pins protruding from the surface, representing an integer point lattice for coordinates 0 ≤ <var>x</var>,<var>y</var> ≤ <var>N</var>.</p>\n",
    "\n",
    "<p>John begins with a pinless geoboard. Each position on the board is a hole that can be filled with a pin. John decides to generate a random integer between 1 and <var>N</var>+1 (inclusive) for each hole in the geoboard. If the random integer is equal to 1 for a given hole, then a pin is placed in that hole.</p>\n",
    "\n",
    "<p>After John is finished generating numbers for all (<var>N</var>+1)<sup>2</sup> holes and placing any/all corresponding pins, he wraps a tight rubberband around the entire group of pins protruding from the board. Let <var>S</var> represent the shape that is formed. <var>S</var> can also be defined as the smallest convex shape that contains all the pins.</p>\n",
    "\n",
    "<div align=\"center\"><img src=\"images/p514_geoboard.png\" alt=\"p514_geoboard.png\" /></div>\n",
    "\n",
    "<p>The above image depicts a sample layout for <var>N</var> = 4. The green markers indicate positions where pins have been placed, and the blue lines collectively represent the rubberband. For this particular arrangement, <var>S</var> has an area of 6. If there are fewer than three pins on the board (or if all pins are collinear), <var>S</var> can be assumed to have zero area.</p>\n",
    "\n",
    "<p>Let E(<var>N</var>) be the expected area of <var>S</var> given a geoboard of order <var>N</var>. For example, E(1) = 0.18750, E(2) = 0.94335, and E(10) = 55.03013 when rounded to five decimal places each.</p>\n",
    "\n",
    "<p>Calculate E(100) rounded to five decimal places.</p>"
   ]
  },
  {
   "cell_type": "markdown",
   "metadata": {},
   "source": [
    "### SOLUTION :\n",
    "\n",
    "It is clear that the expected number of pins is $\\sum(1\\times (1/(N+1)))$"
   ]
  },
  {
   "cell_type": "code",
   "execution_count": 22,
   "metadata": {},
   "outputs": [],
   "source": [
    "def f(n):\n",
    "    if n == 1 :\n",
    "        return 0.18750\n",
    "    else :\n",
    "        return (1+(2*n-1)/((n)**2))*f(n-1)"
   ]
  },
  {
   "cell_type": "code",
   "execution_count": 23,
   "metadata": {},
   "outputs": [
    {
     "data": {
      "text/plain": [
       "0.328125"
      ]
     },
     "execution_count": 23,
     "metadata": {},
     "output_type": "execute_result"
    }
   ],
   "source": [
    "f(2)"
   ]
  },
  {
   "cell_type": "code",
   "execution_count": null,
   "metadata": {},
   "outputs": [],
   "source": []
  }
 ],
 "metadata": {
  "kernelspec": {
   "display_name": "Python 3",
   "language": "python",
   "name": "python3"
  },
  "language_info": {
   "codemirror_mode": {
    "name": "ipython",
    "version": 3
   },
   "file_extension": ".py",
   "mimetype": "text/x-python",
   "name": "python",
   "nbconvert_exporter": "python",
   "pygments_lexer": "ipython3",
   "version": "3.8.3"
  }
 },
 "nbformat": 4,
 "nbformat_minor": 4
}
