{
 "cells": [
  {
   "cell_type": "markdown",
   "metadata": {},
   "source": [
    "### Probelm 31 : Coin sums\n",
    "\n",
    "<p>In the United Kingdom the currency is made up of pound (£) and pence (p). There are eight coins in general circulation:</p>\n",
    "<blockquote>1p, 2p, 5p, 10p, 20p, 50p, £1 (100p), and £2 (200p).</blockquote>\n",
    "<p>It is possible to make £2 in the following way:</p>\n",
    "<blockquote>1×£1 + 1×50p + 2×20p + 1×5p + 1×2p + 3×1p</blockquote>\n",
    "<p>How many different ways can £2 be made using any number of coins?</p>"
   ]
  },
  {
   "cell_type": "markdown",
   "metadata": {},
   "source": [
    "### Solution\n",
    "\n",
    "- Greedy solution :\n",
    "\n",
    "    Try to get all possible combinations where the sum equals the target amount. To do so, wa can for example take all coins and their muluplications ($1\\times C_i, 2\\times C_i ..$ ) that are lower than the target, create all the possible combinations and for every combination test if its sum equals the target or not. For target = 200, the global set contains (1×1p , 2x1p ...,200×1p, 1×2p , 2x2p ...,100×2p ... £2). Let's calculate the cardinal of this set.\n"
   ]
  },
  {
   "cell_type": "code",
   "execution_count": 68,
   "metadata": {},
   "outputs": [
    {
     "name": "stdout",
     "output_type": "stream",
     "text": [
      "The global set cardinal : 377\n"
     ]
    }
   ],
   "source": [
    "coins_values = [1,2,5,10,20,50,100,200]\n",
    "cardinal = 0\n",
    "target = 200\n",
    "for coin in coins_values :\n",
    "    cardinal += target//coin\n",
    "print(f\"The global set cardinal : {cardinal}\")"
   ]
  },
  {
   "cell_type": "markdown",
   "metadata": {},
   "source": [
    "The number of subset of this cardianl equals $2^{377} =$ 307828173409331868845930000782371982852185463050511302093346042220669701339821957901673955116288403443801781174272. It is a huuuuge number, isn't it ?\n",
    "\n",
    "This is why Dynamic programing exist !! \n",
    "\n",
    "### Dynamic programing\n",
    "The question is not to give all the possible combinations, but simply calculate **_the number of these combinations_**.\n",
    "\n",
    "#### 1. Use a single unit. \n",
    "We convert all the coins into thier equivalents in pence (£2 = 200p ...). The list of all coins is : `coins_values = [1,2,5,10,20,50,100,200]` and our target is `target = 200`.\n",
    "\n",
    "#### 2. find a relation between different amounts and coins.\n",
    "To solve this problem, we will use a great maths operation : **THE SUM**.\n",
    "\n",
    "We can express every amount as a sum of two amounts (these amount are less than $n$) :\n",
    "- 6 = 5+1 , 6 = 4+2, 6 = 3+3\n",
    "- 8 = 7+1 , 8 = 6+2, 8 = 5+3 , 8 = 4+4\n",
    "- ...\n",
    "\n",
    "YEES !!  you have it in mind. We can define a recursive function $f(n)$ as $\\sum_{i=1}^{n//2}{f(i)*f(n-i)}$ (By defining some extra rules : adding 1 if n is a coin, and f(1)=1, f(2)=2 as stoping rule.)\n",
    "\n",
    "But waaait wait! if we take 6 = 4+2, a possible combination is 6 = (1+1+1+1) + (1+1) = (1+1+1+1+1+1). For 6 = 3+3, one possible combination is 6 = (1+1+1) + (1+1+1) = (1+1+1+1+1+1). We can see that using this formula will give a false value as it can count the occurence of the same combination in different possible combinations. But the good news is that by using this function we can count all the possible combinations without loosing any possible combination. \n",
    "\n",
    "Now let's get rid of this redundancy :\n",
    "\n",
    "- The  first note is that the result (in a set point of view) won't change if we restrict the sub_amout to the possible coins:\n",
    "    - 8 = 1+7, 8 = 2+6, 8 = 5+3 \n",
    "        - 8 = 4+4 is no longer in the set as 4 is not a coin so 4 is necessarly composed of 2 and/or 1 which are given in the other combinations\n",
    "\n",
    "\n",
    "#### 3.Dynamic programing :\n",
    "\n",
    "let $coins\\_function(c,n)$ be the cardinal of the the set of the combinations where the sum of elements equals n and the maximum value equals c :\n",
    "$\n",
    "\\begin{equation}\n",
    "coins\\_function(c,n) = Card(S) \\ \\  s.t: \\\\  S = \\{\\omega \\in \\mathcal{P}(\\Omega) : max({\\omega}) = c \\ and \\sum_{x \\in \\omega} = n\\}\n",
    "\\end{equation}\n",
    "$\n",
    "\n",
    "```\n",
    "mermaid\n",
    "graph LR\n",
    "A -> B\n",
    "```"
   ]
  },
  {
   "cell_type": "code",
   "execution_count": null,
   "metadata": {},
   "outputs": [],
   "source": [
    "## DYNAMIC PROGRAMMING\n",
    "import numpy as np \n",
    "import itertools \n",
    "coins_values = [1,2,5,10,20,50,100,200]\n",
    "max_value = 200\n",
    "coins_matrix = np.zeros((len(coins_values),max_value)).astype(int)\n",
    "for j in range(max_value) :\n",
    "    coins_matrix[0,j] = 1\n",
    "for j in range(1,max_value) :\n",
    "    target = j+1\n",
    "    for i_x,x in enumerate(coins_values[1:]):\n",
    "        i = i_x+1\n",
    "        value = 0\n",
    "        if x<target :\n",
    "            value += sum([coins_matrix[ii,j-x] for ii in range(i+1)])\n",
    "        elif x == target :\n",
    "            value = 1\n",
    "        else :\n",
    "            break\n",
    "        coins_matrix[i,j] = value\n",
    "\n",
    "print(coins_matrix)        \n",
    "print(coins_matrix[:,max_value-1].sum())\n",
    "        \n"
   ]
  },
  {
   "cell_type": "code",
   "execution_count": null,
   "metadata": {},
   "outputs": [],
   "source": []
  },
  {
   "cell_type": "markdown",
   "metadata": {},
   "source": [
    "## PROBLEM 514\n",
    "<p>A <b>geoboard</b> (of order <var>N</var>) is a square board with equally-spaced pins protruding from the surface, representing an integer point lattice for coordinates 0 ≤ <var>x</var>,<var>y</var> ≤ <var>N</var>.</p>\n",
    "\n",
    "<p>John begins with a pinless geoboard. Each position on the board is a hole that can be filled with a pin. John decides to generate a random integer between 1 and <var>N</var>+1 (inclusive) for each hole in the geoboard. If the random integer is equal to 1 for a given hole, then a pin is placed in that hole.</p>\n",
    "\n",
    "<p>After John is finished generating numbers for all (<var>N</var>+1)<sup>2</sup> holes and placing any/all corresponding pins, he wraps a tight rubberband around the entire group of pins protruding from the board. Let <var>S</var> represent the shape that is formed. <var>S</var> can also be defined as the smallest convex shape that contains all the pins.</p>\n",
    "\n",
    "<div align=\"center\"><img src=\"images/p514_geoboard.png\" alt=\"p514_geoboard.png\" /></div>\n",
    "\n",
    "<p>The above image depicts a sample layout for <var>N</var> = 4. The green markers indicate positions where pins have been placed, and the blue lines collectively represent the rubberband. For this particular arrangement, <var>S</var> has an area of 6. If there are fewer than three pins on the board (or if all pins are collinear), <var>S</var> can be assumed to have zero area.</p>\n",
    "\n",
    "<p>Let E(<var>N</var>) be the expected area of <var>S</var> given a geoboard of order <var>N</var>. For example, E(1) = 0.18750, E(2) = 0.94335, and E(10) = 55.03013 when rounded to five decimal places each.</p>\n",
    "\n",
    "<p>Calculate E(100) rounded to five decimal places.</p>"
   ]
  },
  {
   "cell_type": "markdown",
   "metadata": {},
   "source": [
    "### SOLUTION :\n",
    "\n",
    "It is clear that the expected number of pins is $\\sum(1\\times (1/(N+1)))$"
   ]
  },
  {
   "cell_type": "code",
   "execution_count": 22,
   "metadata": {},
   "outputs": [],
   "source": [
    "def f(n):\n",
    "    if n == 1 :\n",
    "        return 0.18750\n",
    "    else :\n",
    "        return (1+(2*n-1)/((n)**2))*f(n-1)"
   ]
  },
  {
   "cell_type": "code",
   "execution_count": 23,
   "metadata": {},
   "outputs": [
    {
     "data": {
      "text/plain": [
       "0.328125"
      ]
     },
     "execution_count": 23,
     "metadata": {},
     "output_type": "execute_result"
    }
   ],
   "source": [
    "f(2)"
   ]
  },
  {
   "cell_type": "code",
   "execution_count": null,
   "metadata": {},
   "outputs": [],
   "source": []
  }
 ],
 "metadata": {
  "kernelspec": {
   "display_name": "Python 3",
   "language": "python",
   "name": "python3"
  },
  "language_info": {
   "codemirror_mode": {
    "name": "ipython",
    "version": 3
   },
   "file_extension": ".py",
   "mimetype": "text/x-python",
   "name": "python",
   "nbconvert_exporter": "python",
   "pygments_lexer": "ipython3",
   "version": "3.8.3"
  }
 },
 "nbformat": 4,
 "nbformat_minor": 4
}
