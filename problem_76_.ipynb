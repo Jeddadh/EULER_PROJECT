{
 "cells": [
  {
   "cell_type": "markdown",
   "metadata": {},
   "source": [
    "### Problem 76 counting summations"
   ]
  },
  {
   "cell_type": "markdown",
   "metadata": {},
   "source": [
    "\n",
    "<p>It is possible to write five as a sum in exactly six different ways:</p>\n",
    "<p style=\"margin-left:50px;\">4 + 1<br />\n",
    "3 + 2<br />\n",
    "3 + 1 + 1<br />\n",
    "2 + 2 + 1<br />\n",
    "2 + 1 + 1 + 1<br />\n",
    "1 + 1 + 1 + 1 + 1</p>\n",
    "<p>How many different ways can one hundred be written as a sum of at least two positive integers?</p>\n"
   ]
  },
  {
   "cell_type": "markdown",
   "metadata": {},
   "source": [
    "#### Solution \n",
    "\n",
    "This problem is similir to problem 31. We will use the same techniques.\n",
    "\n"
   ]
  },
  {
   "cell_type": "code",
   "execution_count": 4,
   "metadata": {},
   "outputs": [
    {
     "name": "stdout",
     "output_type": "stream",
     "text": [
      "[[  1   1   1 ...   1   1   1]\n",
      " [  0   1   1 ...  49  49  50]\n",
      " [  0   0   1 ... 800 817 833]\n",
      " ...\n",
      " [  0   0   0 ...   1   2   3]\n",
      " [  0   0   0 ...   1   1   2]\n",
      " [  0   0   0 ...   0   1   1]]\n",
      "190569291\n"
     ]
    }
   ],
   "source": [
    "## DYNAMIC PROGRAMMING\n",
    "import numpy as np \n",
    "import itertools \n",
    "max_value = 100\n",
    "coins_values = list(range(1,max_value))\n",
    "\n",
    "coins_matrix = np.zeros((len(coins_values),max_value)).astype(int)\n",
    "for j in range(max_value) :\n",
    "    coins_matrix[0,j] = 1\n",
    "for j in range(1,max_value) :\n",
    "    target = j+1\n",
    "    for i_x,x in enumerate(coins_values[1:]):\n",
    "        i = i_x+1\n",
    "        value = 0\n",
    "        if x<target :\n",
    "            value += sum([coins_matrix[ii,j-x] for ii in range(i+1)])\n",
    "        elif x == target :\n",
    "            value = 1\n",
    "        else :\n",
    "            break\n",
    "        coins_matrix[i,j] = value\n",
    "\n",
    "print(coins_matrix)        \n",
    "print(coins_matrix[:,max_value-1].sum())\n",
    "        \n"
   ]
  },
  {
   "cell_type": "code",
   "execution_count": null,
   "metadata": {},
   "outputs": [],
   "source": []
  }
 ],
 "metadata": {
  "kernelspec": {
   "display_name": "Python 3",
   "language": "python",
   "name": "python3"
  },
  "language_info": {
   "codemirror_mode": {
    "name": "ipython",
    "version": 3
   },
   "file_extension": ".py",
   "mimetype": "text/x-python",
   "name": "python",
   "nbconvert_exporter": "python",
   "pygments_lexer": "ipython3",
   "version": "3.8.3"
  }
 },
 "nbformat": 4,
 "nbformat_minor": 4
}
